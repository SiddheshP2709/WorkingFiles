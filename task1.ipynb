{
 "cells": [
  {
   "cell_type": "code",
   "execution_count": 1,
   "id": "4374c6d3",
   "metadata": {},
   "outputs": [],
   "source": [
    "import torch\n",
    "import torch.nn as nn\n",
    "import torch.functional as F\n",
    "import tensorflow as tf\n",
    "\n",
    "import matplotlib.pyplot as plt\n",
    "import numpy as np\n",
    "import pandas as pd\n",
    "%matplotlib inline\n",
    "%config InlineBackend.figure_format = 'retina'\n",
    "from collections import Counter\n",
    "\n",
    "\n",
    "import re\n",
    "import os"
   ]
  },
  {
   "cell_type": "markdown",
   "id": "95ed3ce4",
   "metadata": {},
   "source": [
    "## Preprocessing and Vocabulary Construction"
   ]
  },
  {
   "cell_type": "code",
   "execution_count": 2,
   "id": "f3ef5abe",
   "metadata": {},
   "outputs": [],
   "source": [
    "device = torch.device(\"cuda\" if torch.cuda.is_available() else \"cpu\")"
   ]
  },
  {
   "cell_type": "code",
   "execution_count": 3,
   "id": "aa938d1e",
   "metadata": {},
   "outputs": [],
   "source": [
    "import kagglehub"
   ]
  },
  {
   "cell_type": "code",
   "execution_count": 4,
   "id": "d0e5107d",
   "metadata": {},
   "outputs": [
    {
     "data": {
      "text/plain": [
       "device(type='cpu')"
      ]
     },
     "execution_count": 4,
     "metadata": {},
     "output_type": "execute_result"
    }
   ],
   "source": [
    "device"
   ]
  },
  {
   "cell_type": "code",
   "execution_count": 5,
   "id": "6ee90f7d",
   "metadata": {},
   "outputs": [],
   "source": [
    "import kagglehub\n",
    "\n",
    "# Download latest version\n",
    "path = kagglehub.dataset_download(\"mehmetlaudatekman/war-and-peace-project-gutenberg\")\n",
    "file_path = os.path.join(path, \"war_peace_plain.txt\")\n",
    "with open(file_path, 'r', encoding='utf-8') as file:\n",
    "    text = file.read()"
   ]
  },
  {
   "cell_type": "code",
   "execution_count": 6,
   "id": "cd4f4124",
   "metadata": {},
   "outputs": [
    {
     "name": "stderr",
     "output_type": "stream",
     "text": [
      "<>:5: SyntaxWarning: invalid escape sequence '\\.'\n",
      "<>:5: SyntaxWarning: invalid escape sequence '\\.'\n",
      "C:\\Users\\SIDDHESH PATIL\\AppData\\Local\\Temp\\ipykernel_4304\\3697034396.py:5: SyntaxWarning: invalid escape sequence '\\.'\n",
      "  filtered_text = re.sub('[^a-zA-Z0-9 \\.\\n]', '', filtered_text)\n"
     ]
    },
    {
     "name": "stdout",
     "output_type": "stream",
     "text": [
      "Total no. of lines:  30660\n",
      "Total unique words:  19764\n"
     ]
    }
   ],
   "source": [
    "with open(file_path, 'r', encoding='utf-8') as file:\n",
    "    text = file.read()\n",
    "\n",
    "filtered_text = re.sub(r'-', ' ', text)\n",
    "filtered_text = re.sub('[^a-zA-Z0-9 \\.\\n]', '', filtered_text)\n",
    "filtered_text = filtered_text.lower()\n",
    "\n",
    "lines=filtered_text.split(\".\")\n",
    "# text is separated by lines based on full stop.\n",
    "words=['.']\n",
    "for l in lines:\n",
    "    for w in l.split():\n",
    "        if (len(w)>0):\n",
    "            words.append(w)\n",
    "words=list(pd.Series(words).unique())\n",
    "word_counts = Counter(words)\n",
    "\n",
    "df_counts = pd.DataFrame(word_counts.items(), columns = [\"word\", \"frequency\"])\n",
    "df_counts = df_counts.sort_values(by = \"frequency\", ascending=False)  #sorting the words by descending order of their frequency\n",
    "\n",
    "# vocabulary size\n",
    "print(\"Total no. of lines: \", len(lines))\n",
    "print(\"Total unique words: \", len(words))"
   ]
  },
  {
   "cell_type": "code",
   "execution_count": 7,
   "id": "40d8e48b",
   "metadata": {},
   "outputs": [
    {
     "name": "stdout",
     "output_type": "stream",
     "text": [
      "Top 10 most frequent words are: \n",
      "\n",
      "   word  frequency\n",
      "      .          1\n",
      "chapter          1\n",
      "      i          1\n",
      "   well          1\n",
      " prince          1\n",
      "     so          1\n",
      "  genoa          1\n",
      "    and          1\n",
      "  lucca          1\n",
      "    are          1\n",
      "Top 10 least frequent words are: \n",
      "\n",
      "           word  frequency\n",
      "      firmament          1\n",
      "         joshua          1\n",
      "            nun          1\n",
      "      defenders          1\n",
      "      uninvited          1\n",
      "    strengthens          1\n",
      "   immovability          1\n",
      "personalityfree          1\n",
      "         earths          1\n",
      "         unreal          1\n"
     ]
    }
   ],
   "source": [
    "# Top 10 most frequenct words\n",
    "print(\"Top 10 most frequent words are: \\n\")\n",
    "top_10 = df_counts.head(10)\n",
    "print(top_10.to_string(index = False))\n",
    "\n",
    "# Bottom 10 least frequent words\n",
    "print(\"Top 10 least frequent words are: \\n\")\n",
    "bottom_10 = df_counts.tail(10)\n",
    "print(bottom_10.to_string(index = False))"
   ]
  },
  {
   "cell_type": "markdown",
   "id": "9cb77397",
   "metadata": {},
   "source": [
    "## Model Design and Training "
   ]
  },
  {
   "cell_type": "code",
   "execution_count": 8,
   "id": "37822a09",
   "metadata": {},
   "outputs": [],
   "source": [
    "# Creating a mapping between string and integer to help prediction\n",
    "\n",
    "stoi = {s: i for i,s in enumerate(words)}\n",
    "itos = {i: s for s, i in stoi.items()}"
   ]
  },
  {
   "cell_type": "code",
   "execution_count": 20,
   "id": "786c3694",
   "metadata": {},
   "outputs": [
    {
     "data": {
      "text/plain": [
       "(torch.Size([590609, 5]), torch.Size([590609]), torch.int64, torch.int64)"
      ]
     },
     "execution_count": 20,
     "metadata": {},
     "output_type": "execute_result"
    }
   ],
   "source": [
    "size = 5  # number of previous words used as context\n",
    "X, Y = [], []\n",
    "\n",
    "for line in lines:\n",
    "    predata = [0] * size\n",
    "    prewords = line.split()\n",
    "\n",
    "    for i in range(len(prewords)):\n",
    "        word1 = stoi[prewords[i]]\n",
    "        \n",
    "        X.append(predata.copy())   # store current context\n",
    "        Y.append(word1)         # store next word\n",
    "        \n",
    "        # slide the window\n",
    "        predata = predata[1:] + [word1]\n",
    "\n",
    "        # handle end of sentence\n",
    "        if i == len(prewords) - 1:\n",
    "            eos = stoi['.']\n",
    "            X.append(predata.copy())\n",
    "            Y.append(eos)\n",
    "            predata = predata[1:] + [eos]    # this helps to keep the length of the words needed to be predicted under 5\n",
    "\n",
    "# Convert to tensors\n",
    "X = torch.tensor(X).to(device)\n",
    "Y = torch.tensor(Y).to(device)\n",
    "\n",
    "X.shape, Y.shape, X.dtype, Y.dtype\n"
   ]
  },
  {
   "cell_type": "code",
   "execution_count": 21,
   "id": "affce4ab",
   "metadata": {},
   "outputs": [
    {
     "name": "stdout",
     "output_type": "stream",
     "text": [
      "Embedding(19764, 64)\n"
     ]
    }
   ],
   "source": [
    "embed_dim = 64\n",
    "# using 64 dimensional embedding \n",
    "\n",
    "embed = torch.nn.Embedding(len(stoi), embed_dim).to(device)\n",
    "# creates embedding layer of 2nd parameter of data from the 1st parameter\n",
    "print(embed)"
   ]
  },
  {
   "cell_type": "code",
   "execution_count": 22,
   "id": "b0c3dcec",
   "metadata": {},
   "outputs": [],
   "source": [
    "class Next_Word_Predictor(nn.Module):\n",
    "    def __init__(self, size, vocab_size, embed_dim, hidden_dim, activation_fn, seed_value):\n",
    "        super().__init__()\n",
    "        self.size = size\n",
    "        self.hyperpams = {'size':self.size, 'embed_dim': embed_dim, 'hidden_dim': hidden_dim, 'activation_fn':activation_fn,'seed_value':seed_value}\n",
    "        self.embed = nn.Embedding(vocab_size, embed_dim)\n",
    "        self.linear1 = nn.Linear(size* embed_dim, hidden_dim)\n",
    "        self.linear2 = nn.Linear(hidden_dim, vocab_size)\n",
    "\n",
    "        self.activation_fn = torch.relu\n",
    "\n",
    "    def forward(self, x):\n",
    "        # Embedding Layer\n",
    "        x = self.embed(x)\n",
    "        x = x.view(x.shape[0], -1) # flattens the embedding\n",
    "\n",
    "        # Hidden Layer\n",
    "        x = self.linear1(x)  # maps the flattened vector to the hidden dimension\n",
    "        x = self.activation_fn(x)  # adds an activation function to x\n",
    "\n",
    "        # Output Layer\n",
    "        x = self.linear2(x)\n",
    "\n",
    "        return x\n"
   ]
  },
  {
   "cell_type": "code",
   "execution_count": 23,
   "id": "e8051c9a",
   "metadata": {},
   "outputs": [],
   "source": [
    "def train_model(X, Y, size, embed_dim, vocab_size, hidden_dim, activation_fn, seed_value, device, batch_size = 1024, epochs = 100, print_every = 10):\n",
    "    torch.manual_seed(seed_value)\n",
    "    model = Next_Word_Predictor(size, vocab_size, embed_dim, hidden_dim, activation_fn, seed_value).to(device)\n",
    "    loss_fn = nn.CrossEntropyLoss()\n",
    "\n",
    "    opt = torch.optim.AdamW(model.parameters(), lr = 0.001)\n",
    "\n",
    "    for epoch in range(epochs):\n",
    "        for i in range(0, X.shape[0], batch_size):\n",
    "            x = X[i:i+batch_size].to(device)\n",
    "            y = Y[i:i+batch_size].to(device)\n",
    "            y_pred = model(x)\n",
    "            loss = loss_fn(y_pred, y)\n",
    "\n",
    "            loss.backward()\n",
    "            opt.step()\n",
    "            opt.zero_grad\n",
    "\n",
    "        if(epoch%print_every == 0):\n",
    "            print(f'Epoch {epoch}: Loss = {loss.item()}')\n",
    "\n",
    "        return model"
   ]
  },
  {
   "cell_type": "code",
   "execution_count": 24,
   "id": "adb31d2b",
   "metadata": {},
   "outputs": [],
   "source": [
    "vocab_size = len(stoi)\n",
    "hidden_dim = 1024\n",
    "activation_fn = 'relu'\n",
    "seed_value = 42"
   ]
  },
  {
   "cell_type": "code",
   "execution_count": 29,
   "id": "fefa96d7",
   "metadata": {},
   "outputs": [
    {
     "ename": "KeyboardInterrupt",
     "evalue": "",
     "output_type": "error",
     "traceback": [
      "\u001b[31m---------------------------------------------------------------------------\u001b[39m",
      "\u001b[31mKeyboardInterrupt\u001b[39m                         Traceback (most recent call last)",
      "\u001b[36mCell\u001b[39m\u001b[36m \u001b[39m\u001b[32mIn[29]\u001b[39m\u001b[32m, line 1\u001b[39m\n\u001b[32m----> \u001b[39m\u001b[32m1\u001b[39m model = \u001b[43mtrain_model\u001b[49m\u001b[43m(\u001b[49m\u001b[43mX\u001b[49m\u001b[43m,\u001b[49m\u001b[43m \u001b[49m\u001b[43mY\u001b[49m\u001b[43m,\u001b[49m\u001b[43m \u001b[49m\u001b[43msize\u001b[49m\u001b[43m,\u001b[49m\u001b[43m \u001b[49m\u001b[43membed_dim\u001b[49m\u001b[43m,\u001b[49m\u001b[43m \u001b[49m\u001b[43mvocab_size\u001b[49m\u001b[43m,\u001b[49m\u001b[43m \u001b[49m\u001b[43mhidden_dim\u001b[49m\u001b[43m,\u001b[49m\u001b[43m \u001b[49m\u001b[43mactivation_fn\u001b[49m\u001b[43m,\u001b[49m\u001b[43m \u001b[49m\u001b[43mseed_value\u001b[49m\u001b[43m,\u001b[49m\u001b[43m \u001b[49m\u001b[43mdevice\u001b[49m\u001b[43m)\u001b[49m\n",
      "\u001b[36mCell\u001b[39m\u001b[36m \u001b[39m\u001b[32mIn[25]\u001b[39m\u001b[32m, line 15\u001b[39m, in \u001b[36mtrain_model\u001b[39m\u001b[34m(X, Y, size, embed_dim, vocab_size, hidden_dim, activation_fn, seed_value, device, batch_size, epochs, print_every)\u001b[39m\n\u001b[32m     12\u001b[39m y_pred = model(x)\n\u001b[32m     13\u001b[39m loss = loss_fn(y_pred, y)\n\u001b[32m---> \u001b[39m\u001b[32m15\u001b[39m \u001b[43mloss\u001b[49m\u001b[43m.\u001b[49m\u001b[43mbackward\u001b[49m\u001b[43m(\u001b[49m\u001b[43m)\u001b[49m\n\u001b[32m     16\u001b[39m opt.step()\n\u001b[32m     17\u001b[39m opt.zero_grad\n",
      "\u001b[36mFile \u001b[39m\u001b[32md:\\VSCode\\venv\\Lib\\site-packages\\torch\\_tensor.py:647\u001b[39m, in \u001b[36mTensor.backward\u001b[39m\u001b[34m(self, gradient, retain_graph, create_graph, inputs)\u001b[39m\n\u001b[32m    637\u001b[39m \u001b[38;5;28;01mif\u001b[39;00m has_torch_function_unary(\u001b[38;5;28mself\u001b[39m):\n\u001b[32m    638\u001b[39m     \u001b[38;5;28;01mreturn\u001b[39;00m handle_torch_function(\n\u001b[32m    639\u001b[39m         Tensor.backward,\n\u001b[32m    640\u001b[39m         (\u001b[38;5;28mself\u001b[39m,),\n\u001b[32m   (...)\u001b[39m\u001b[32m    645\u001b[39m         inputs=inputs,\n\u001b[32m    646\u001b[39m     )\n\u001b[32m--> \u001b[39m\u001b[32m647\u001b[39m \u001b[43mtorch\u001b[49m\u001b[43m.\u001b[49m\u001b[43mautograd\u001b[49m\u001b[43m.\u001b[49m\u001b[43mbackward\u001b[49m\u001b[43m(\u001b[49m\n\u001b[32m    648\u001b[39m \u001b[43m    \u001b[49m\u001b[38;5;28;43mself\u001b[39;49m\u001b[43m,\u001b[49m\u001b[43m \u001b[49m\u001b[43mgradient\u001b[49m\u001b[43m,\u001b[49m\u001b[43m \u001b[49m\u001b[43mretain_graph\u001b[49m\u001b[43m,\u001b[49m\u001b[43m \u001b[49m\u001b[43mcreate_graph\u001b[49m\u001b[43m,\u001b[49m\u001b[43m \u001b[49m\u001b[43minputs\u001b[49m\u001b[43m=\u001b[49m\u001b[43minputs\u001b[49m\n\u001b[32m    649\u001b[39m \u001b[43m\u001b[49m\u001b[43m)\u001b[49m\n",
      "\u001b[36mFile \u001b[39m\u001b[32md:\\VSCode\\venv\\Lib\\site-packages\\torch\\autograd\\__init__.py:354\u001b[39m, in \u001b[36mbackward\u001b[39m\u001b[34m(tensors, grad_tensors, retain_graph, create_graph, grad_variables, inputs)\u001b[39m\n\u001b[32m    349\u001b[39m     retain_graph = create_graph\n\u001b[32m    351\u001b[39m \u001b[38;5;66;03m# The reason we repeat the same comment below is that\u001b[39;00m\n\u001b[32m    352\u001b[39m \u001b[38;5;66;03m# some Python versions print out the first line of a multi-line function\u001b[39;00m\n\u001b[32m    353\u001b[39m \u001b[38;5;66;03m# calls in the traceback and some print out the last line\u001b[39;00m\n\u001b[32m--> \u001b[39m\u001b[32m354\u001b[39m \u001b[43m_engine_run_backward\u001b[49m\u001b[43m(\u001b[49m\n\u001b[32m    355\u001b[39m \u001b[43m    \u001b[49m\u001b[43mtensors\u001b[49m\u001b[43m,\u001b[49m\n\u001b[32m    356\u001b[39m \u001b[43m    \u001b[49m\u001b[43mgrad_tensors_\u001b[49m\u001b[43m,\u001b[49m\n\u001b[32m    357\u001b[39m \u001b[43m    \u001b[49m\u001b[43mretain_graph\u001b[49m\u001b[43m,\u001b[49m\n\u001b[32m    358\u001b[39m \u001b[43m    \u001b[49m\u001b[43mcreate_graph\u001b[49m\u001b[43m,\u001b[49m\n\u001b[32m    359\u001b[39m \u001b[43m    \u001b[49m\u001b[43minputs_tuple\u001b[49m\u001b[43m,\u001b[49m\n\u001b[32m    360\u001b[39m \u001b[43m    \u001b[49m\u001b[43mallow_unreachable\u001b[49m\u001b[43m=\u001b[49m\u001b[38;5;28;43;01mTrue\u001b[39;49;00m\u001b[43m,\u001b[49m\n\u001b[32m    361\u001b[39m \u001b[43m    \u001b[49m\u001b[43maccumulate_grad\u001b[49m\u001b[43m=\u001b[49m\u001b[38;5;28;43;01mTrue\u001b[39;49;00m\u001b[43m,\u001b[49m\n\u001b[32m    362\u001b[39m \u001b[43m\u001b[49m\u001b[43m)\u001b[49m\n",
      "\u001b[36mFile \u001b[39m\u001b[32md:\\VSCode\\venv\\Lib\\site-packages\\torch\\autograd\\graph.py:829\u001b[39m, in \u001b[36m_engine_run_backward\u001b[39m\u001b[34m(t_outputs, *args, **kwargs)\u001b[39m\n\u001b[32m    827\u001b[39m     unregister_hooks = _register_logging_hooks_on_whole_graph(t_outputs)\n\u001b[32m    828\u001b[39m \u001b[38;5;28;01mtry\u001b[39;00m:\n\u001b[32m--> \u001b[39m\u001b[32m829\u001b[39m     \u001b[38;5;28;01mreturn\u001b[39;00m \u001b[43mVariable\u001b[49m\u001b[43m.\u001b[49m\u001b[43m_execution_engine\u001b[49m\u001b[43m.\u001b[49m\u001b[43mrun_backward\u001b[49m\u001b[43m(\u001b[49m\u001b[43m  \u001b[49m\u001b[38;5;66;43;03m# Calls into the C++ engine to run the backward pass\u001b[39;49;00m\n\u001b[32m    830\u001b[39m \u001b[43m        \u001b[49m\u001b[43mt_outputs\u001b[49m\u001b[43m,\u001b[49m\u001b[43m \u001b[49m\u001b[43m*\u001b[49m\u001b[43margs\u001b[49m\u001b[43m,\u001b[49m\u001b[43m \u001b[49m\u001b[43m*\u001b[49m\u001b[43m*\u001b[49m\u001b[43mkwargs\u001b[49m\n\u001b[32m    831\u001b[39m \u001b[43m    \u001b[49m\u001b[43m)\u001b[49m  \u001b[38;5;66;03m# Calls into the C++ engine to run the backward pass\u001b[39;00m\n\u001b[32m    832\u001b[39m \u001b[38;5;28;01mfinally\u001b[39;00m:\n\u001b[32m    833\u001b[39m     \u001b[38;5;28;01mif\u001b[39;00m attach_logging_hooks:\n",
      "\u001b[31mKeyboardInterrupt\u001b[39m: "
     ]
    }
   ],
   "source": [
    "model = train_model(X, Y, size, embed_dim, vocab_size, hidden_dim, activation_fn, seed_value, device)"
   ]
  },
  {
   "cell_type": "code",
   "execution_count": 15,
   "id": "7a3a1833",
   "metadata": {},
   "outputs": [
    {
     "ename": "NameError",
     "evalue": "name 'model' is not defined",
     "output_type": "error",
     "traceback": [
      "\u001b[31m---------------------------------------------------------------------------\u001b[39m",
      "\u001b[31mNameError\u001b[39m                                 Traceback (most recent call last)",
      "\u001b[36mCell\u001b[39m\u001b[36m \u001b[39m\u001b[32mIn[15]\u001b[39m\u001b[32m, line 2\u001b[39m\n\u001b[32m      1\u001b[39m \u001b[38;5;66;03m# saving model\u001b[39;00m\n\u001b[32m----> \u001b[39m\u001b[32m2\u001b[39m torch.save(\u001b[43mmodel\u001b[49m, \u001b[33m\"\u001b[39m\u001b[33mmodel1_task1\u001b[39m\u001b[33m\"\u001b[39m)\n",
      "\u001b[31mNameError\u001b[39m: name 'model' is not defined"
     ]
    }
   ],
   "source": [
    "# saving model\n",
    "torch.save(model, \"model1_task1\")"
   ]
  },
  {
   "cell_type": "code",
   "execution_count": 34,
   "id": "928e6482",
   "metadata": {},
   "outputs": [],
   "source": [
    "# names generation from the trained model\n",
    "\n",
    "def generateNextWord(model, itos, stoi, content, seed_value, k, temperature =  1, max_len = 10):\n",
    "    torch.manual_seed(seed_value)\n",
    "\n",
    "    size = model.size\n",
    "    predata =  content.lower()\n",
    "    predata = re.sub(r'[^a-zA-Z0-9 \\.]', '', predata)  # remove unwanted punctuation\n",
    "    predata = re.sub(r'\\.', ' . ', predata)             # separate periods with spaces\n",
    "\n",
    "\n",
    "    wordsNew = predata.split()\n",
    "    predata = []\n",
    "\n",
    "# Convert words to integer IDs\n",
    "    for i in range(len(wordsNew)):\n",
    "        try:\n",
    "            if stoi[wordsNew[i]]:\n",
    "                predata.append(wordsNew[i])\n",
    "        except:\n",
    "            predata = [stoi[w] for w in predata]\n",
    "            if len(predata) <= size:\n",
    "                predata = [0] * (size - len(predata)) + predata\n",
    "            elif len(predata) > size:\n",
    "                predata = predata[-size:] # take the last (size) elements\n",
    "            x = torch.tensor(predata).view(1, -1).to(device)\n",
    "            y_pred = model(x)\n",
    "            logits = y_pred\n",
    "            logits = logits/temperature\n",
    "\n",
    "            word1 = torch.distributions.categorical.Categorical(logits = logits).sample().item()\n",
    "            word = itos[word1]\n",
    "            content += \" \" + word\n",
    "            predata = predata[1:]+[word1]\n",
    "            predata = [itos[w] for w in predata]\n",
    "\n",
    "\n",
    "    predata = [stoi[w] for w in predata]\n",
    "\n",
    "    if len(predata) <= size:\n",
    "        predata = [0] * (size - len(predata)) + predata\n",
    "    elif len(predata) > size:\n",
    "        predata = predata[-size:]\n",
    "\n",
    "    for i in range(k):\n",
    "        x = torch.tensor(predata).view(1, -1).to(device)\n",
    "        y_pred = model(x)\n",
    "        logits = y_pred\n",
    "        logits = logits/temperature\n",
    "        word1 = torch.distributions.categorical.Categorical(logits=logits).sample().item()\n",
    "        word = itos[word1]\n",
    "        content += \" \" + word\n",
    "        predata = predata[1:] + [word1]\n",
    "\n",
    "    return content"
   ]
  }
 ],
 "metadata": {
  "kernelspec": {
   "display_name": "venv",
   "language": "python",
   "name": "python3"
  },
  "language_info": {
   "codemirror_mode": {
    "name": "ipython",
    "version": 3
   },
   "file_extension": ".py",
   "mimetype": "text/x-python",
   "name": "python",
   "nbconvert_exporter": "python",
   "pygments_lexer": "ipython3",
   "version": "3.12.7"
  }
 },
 "nbformat": 4,
 "nbformat_minor": 5
}
